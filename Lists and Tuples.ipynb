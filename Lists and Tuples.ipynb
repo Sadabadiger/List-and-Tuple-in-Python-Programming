{
 "cells": [
  {
   "cell_type": "markdown",
   "metadata": {},
   "source": [
    "# List\n",
    "- A list similer to an array that consists of a group of elements or items.\n",
    "- There is one major difference between an array and a list, an array can store only one type of elements whereas a list can store different types of elements\n",
    "- In array size of the array is fixed and they can't grow in the runtime but List can grow dynamically in memory\n",
    "- Lists are mutable, It means we can modify the contents of a list, we can append, update or delete the elements of a list depening upon the requirement \n",
    "- Lists are representing with [ ] and the elements are written in bracket are seperated by commas\n",
    "- List  are the most used datatypes in python programs"
   ]
  },
  {
   "cell_type": "code",
   "execution_count": 32,
   "metadata": {},
   "outputs": [
    {
     "name": "stdout",
     "output_type": "stream",
     "text": [
      "[10, 'sadashiv', 55, 60, 65, 78, 90, 65]\n"
     ]
    }
   ],
   "source": [
    "# Creating list that stores students information\n",
    "student=[10,'sadashiv',55,60,65,78,90,65]\n",
    "print(student)"
   ]
  },
  {
   "cell_type": "code",
   "execution_count": 38,
   "metadata": {},
   "outputs": [
    {
     "data": {
      "text/plain": [
       "65"
      ]
     },
     "execution_count": 38,
     "metadata": {},
     "output_type": "execute_result"
    }
   ],
   "source": [
    "# Indexing in list\n",
    "student[-1]"
   ]
  },
  {
   "cell_type": "code",
   "execution_count": 39,
   "metadata": {},
   "outputs": [
    {
     "data": {
      "text/plain": [
       "[10, 'sadashiv', 55, 60]"
      ]
     },
     "execution_count": 39,
     "metadata": {},
     "output_type": "execute_result"
    }
   ],
   "source": [
    "# Slicing Operation in list\n",
    "student[0:4]"
   ]
  },
  {
   "cell_type": "code",
   "execution_count": 4,
   "metadata": {},
   "outputs": [],
   "source": [
    "# Range() function in list, range(start, stop, stepsize)\n",
    "# The below print function return only range class object that stores the data about 'start', 'stop' and 'stepsize'\n"
   ]
  },
  {
   "cell_type": "code",
   "execution_count": 40,
   "metadata": {},
   "outputs": [
    {
     "name": "stdout",
     "output_type": "stream",
     "text": [
      "1\n",
      "2\n",
      "3\n",
      "4\n",
      "5\n",
      "6\n",
      "7\n",
      "8\n",
      "9\n"
     ]
    }
   ],
   "source": [
    "# use for loop to get the range of numbers\n",
    "for i in range(1,10):\n",
    "    print(i)"
   ]
  },
  {
   "cell_type": "code",
   "execution_count": 46,
   "metadata": {},
   "outputs": [
    {
     "name": "stdout",
     "output_type": "stream",
     "text": [
      "1\n",
      "2\n",
      "3\n",
      "4\n",
      "5\n",
      "6\n",
      "7\n",
      "8\n",
      "9\n"
     ]
    }
   ],
   "source": [
    "# Use while loop to get the range of numbers\n",
    "lst=list(range(1,11))\n",
    "i=1\n",
    "while i<len(lst):\n",
    "    print(i)\n",
    "    i=i+1"
   ]
  },
  {
   "cell_type": "code",
   "execution_count": 47,
   "metadata": {},
   "outputs": [
    {
     "name": "stdout",
     "output_type": "stream",
     "text": [
      "15\n"
     ]
    }
   ],
   "source": [
    "# sum() function in list returns the sum of all the elements\n",
    "lst=[1,2,3,4,5]\n",
    "print(sum(lst))"
   ]
  },
  {
   "cell_type": "code",
   "execution_count": 48,
   "metadata": {},
   "outputs": [
    {
     "data": {
      "text/plain": [
       "2"
      ]
     },
     "execution_count": 48,
     "metadata": {},
     "output_type": "execute_result"
    }
   ],
   "source": [
    "# index() function returns the first occurence of x in the list, usage of the function: list.index(x)\n",
    "lst=[10,20,30,40,50]\n",
    "lst.index(30)"
   ]
  },
  {
   "cell_type": "code",
   "execution_count": 49,
   "metadata": {},
   "outputs": [
    {
     "name": "stdout",
     "output_type": "stream",
     "text": [
      "[10, 20, 30, 40, 50, 60]\n"
     ]
    }
   ],
   "source": [
    "# append() function appends x at the end of the list, usage of the function: list.append(x)\n",
    "lst.append(60)\n",
    "print(lst)"
   ]
  },
  {
   "cell_type": "code",
   "execution_count": 50,
   "metadata": {},
   "outputs": [
    {
     "name": "stdout",
     "output_type": "stream",
     "text": [
      "[10, 20, 30, 70, 40, 50, 60]\n"
     ]
    }
   ],
   "source": [
    "# insert() function inserts x into the list in the position specified by i, usage of the function: list.insert(i,x)\n",
    "lst.insert(3,70)\n",
    "print(lst)"
   ]
  },
  {
   "cell_type": "code",
   "execution_count": 52,
   "metadata": {},
   "outputs": [
    {
     "name": "stdout",
     "output_type": "stream",
     "text": [
      "[1, 2, 3, 4, 5]\n"
     ]
    }
   ],
   "source": [
    "# copy() function copies all the list elements into a new list and returns it, usage of the function: list.copy()\n",
    "lst=[1,2,3,4,5]\n",
    "lst1=list.copy(lst)\n",
    "print(lst1)"
   ]
  },
  {
   "cell_type": "code",
   "execution_count": 55,
   "metadata": {},
   "outputs": [
    {
     "name": "stdout",
     "output_type": "stream",
     "text": [
      "[10, 20, 30, 40, 50, 60, 70, 80]\n"
     ]
    }
   ],
   "source": [
    "# extend() function append one list with another list, usage of the function: list.extend(list1)\n",
    "# cancantation can be used to append two list, we can simply use '+' operator on two lists to join them\n",
    "lst1=[10,20,30,40]\n",
    "lst2=[50,60,70,80]\n",
    "#lst1.extend(lst2)\n",
    "#print(lst1)"
   ]
  },
  {
   "cell_type": "code",
   "execution_count": 56,
   "metadata": {},
   "outputs": [
    {
     "name": "stdout",
     "output_type": "stream",
     "text": [
      "[10, 20, 30, 40, 50, 60, 70, 80, 50, 60, 70, 80]\n"
     ]
    }
   ],
   "source": [
    "lst3=lst1+lst2\n",
    "print(lst3)"
   ]
  },
  {
   "cell_type": "code",
   "execution_count": 58,
   "metadata": {},
   "outputs": [
    {
     "data": {
      "text/plain": [
       "2"
      ]
     },
     "execution_count": 58,
     "metadata": {},
     "output_type": "execute_result"
    }
   ],
   "source": [
    "# count() function returns number of occurence of x in the list, usage of the function: list.count(x)\n",
    "lst=[10,20,30,10,10,10,30,40,50,60]\n",
    "lst.count(30)"
   ]
  },
  {
   "cell_type": "code",
   "execution_count": null,
   "metadata": {},
   "outputs": [],
   "source": []
  },
  {
   "cell_type": "code",
   "execution_count": 59,
   "metadata": {},
   "outputs": [
    {
     "name": "stdout",
     "output_type": "stream",
     "text": [
      "[10, 20, 40, 50]\n"
     ]
    }
   ],
   "source": [
    "# remove() function removes x from the list, usage of the function: list.remove(x)\n",
    "lst=[10,20,30,40,50]\n",
    "lst.remove(30)\n",
    "print(lst)"
   ]
  },
  {
   "cell_type": "code",
   "execution_count": 60,
   "metadata": {},
   "outputs": [
    {
     "name": "stdout",
     "output_type": "stream",
     "text": [
      "[1, 2, 3, 4, 5, 6]\n"
     ]
    }
   ],
   "source": [
    "# pop() function remove the ending element from the list\n",
    "lst=[1,2,3,4,5,6,7]\n",
    "lst.pop()\n",
    "print(lst)\n"
   ]
  },
  {
   "cell_type": "code",
   "execution_count": 62,
   "metadata": {},
   "outputs": [
    {
     "name": "stdout",
     "output_type": "stream",
     "text": [
      "Ascending order:  [1, 2, 3, 4, 6, 7, 8, 9]\n",
      "Descending order:  [9, 8, 7, 6, 4, 3, 2, 1]\n"
     ]
    }
   ],
   "source": [
    "# sort() function sort the element of the list into assending order, usage of the function: list.sort()\n",
    "lst=[1,4,2,9,3,7,8,6]\n",
    "lst.sort()\n",
    "print(\"Ascending order: \",lst)\n",
    "\n",
    "#list_name.sort() – it sorts in ascending order\n",
    "\n",
    "#list_name.sort(reverse=True) – it sorts in descending order\n",
    "lst.sort(reverse=True)\n",
    "print(\"Descending order: \",lst)"
   ]
  },
  {
   "cell_type": "code",
   "execution_count": 63,
   "metadata": {},
   "outputs": [
    {
     "name": "stdout",
     "output_type": "stream",
     "text": [
      "[]\n"
     ]
    }
   ],
   "source": [
    "# clear() function delete all the elements from the list, usage of the function: list.clear()\n",
    "lst=[10,20,30,40,50]\n",
    "lst.clear()\n",
    "print(lst)\n"
   ]
  },
  {
   "cell_type": "code",
   "execution_count": 66,
   "metadata": {},
   "outputs": [
    {
     "name": "stdout",
     "output_type": "stream",
     "text": [
      "The maximum value present in the list 500\n",
      "The minimum value present in the list 10\n"
     ]
    }
   ],
   "source": [
    "# max() function returns maximum value of the element in the list and min() function minimum value\n",
    "lst=[10,30,40,100,500,300]\n",
    "print(\"The maximum value present in the list\",max(lst))\n",
    "print(\"The minimum value present in the list\",min(lst))\n",
    "\n"
   ]
  },
  {
   "cell_type": "code",
   "execution_count": 67,
   "metadata": {},
   "outputs": [
    {
     "name": "stdout",
     "output_type": "stream",
     "text": [
      "[[1, 2, 3, 4, 5, 1, 2, 3, 4, 5, 1, 2, 3, 4, 5]]\n"
     ]
    }
   ],
   "source": [
    "# Repetition of list\n",
    "lst=[1,2,3,4,5]\n",
    "lst1=[3*lst]\n",
    "print(lst1)"
   ]
  },
  {
   "cell_type": "markdown",
   "metadata": {},
   "source": [
    "# Membership in list\n",
    "- We can check if an element is a member of a list or not by using 'in' and 'not in operator.\n",
    "- If the element is a member of the list, then 'in' operator returns True else False.\n",
    "- If the element is not a member of the list, then 'not in' operator returns True or False"
   ]
  },
  {
   "cell_type": "code",
   "execution_count": 70,
   "metadata": {},
   "outputs": [
    {
     "name": "stdout",
     "output_type": "stream",
     "text": [
      "True\n"
     ]
    }
   ],
   "source": [
    "x=[10,20,30,40,50]\n",
    "a=70\n",
    "print(a not in x)"
   ]
  },
  {
   "cell_type": "markdown",
   "metadata": {},
   "source": [
    "# Aliasing and Cloning of List\n",
    "- Giving a new name to an existing list is called 'aliasing', the new name is called aliase name"
   ]
  },
  {
   "cell_type": "code",
   "execution_count": 71,
   "metadata": {},
   "outputs": [
    {
     "name": "stdout",
     "output_type": "stream",
     "text": [
      "The elements present in the x:  [1, 2, 3, 4, 5]\n",
      "The elements present in the y:  [1, 2, 3, 4, 5]\n"
     ]
    }
   ],
   "source": [
    "x=[1,2,3,4,5]\n",
    "y=x\n",
    "print(\"The elements present in the x: \",x)\n",
    "print(\"The elements present in the y: \",y)"
   ]
  },
  {
   "cell_type": "code",
   "execution_count": 72,
   "metadata": {},
   "outputs": [
    {
     "name": "stdout",
     "output_type": "stream",
     "text": [
      "The elements present in the x:  [1, 99, 3, 4, 5]\n",
      "The elements present in the y:  [1, 99, 3, 4, 5]\n"
     ]
    }
   ],
   "source": [
    "# In aliasing any modification in x will also modify element in y\n",
    "x[1]=99\n",
    "print(\"The elements present in the x: \",x)\n",
    "print(\"The elements present in the y: \",y)"
   ]
  },
  {
   "cell_type": "code",
   "execution_count": 73,
   "metadata": {},
   "outputs": [
    {
     "name": "stdout",
     "output_type": "stream",
     "text": [
      "The elements present in the x:  [1, 99, 3, 4, 5]\n",
      "The elements present in the y:  [1, 2, 3, 4, 5]\n"
     ]
    }
   ],
   "source": [
    "# Cloning in list\n",
    "x=[1,2,3,4,5]\n",
    "y=x[:]\n",
    "x[1]=99\n",
    "print(\"The elements present in the x: \",x)\n",
    "print(\"The elements present in the y: \",y)"
   ]
  },
  {
   "cell_type": "markdown",
   "metadata": {},
   "source": [
    "# Finding Common elements in Two lists\n",
    "- Sometime, it is useful to know which elements are repeated in two list\n",
    "- we should convert the lists into  sets, using set() function\n",
    "- Then we should find out the common element in the two sets using intersection method, **set1.intersection(set2)**"
   ]
  },
  {
   "cell_type": "code",
   "execution_count": 77,
   "metadata": {},
   "outputs": [
    {
     "name": "stdout",
     "output_type": "stream",
     "text": [
      "{1, 3, 4}\n",
      "[1, 3, 4]\n"
     ]
    }
   ],
   "source": [
    "# Finding common elements in two lists\n",
    "# Take two lists\n",
    "lst1=[1,2,3,4,5,6]\n",
    "lst2=[1,10,20,3,4,50]\n",
    "# Convert them into sets\n",
    "s1=set(lst1)\n",
    "s2=set(lst2)\n",
    "\n",
    "#Find the intersection of two sets using s1.intersection(s2)\n",
    "s3=s1.intersection(s2)\n",
    "print(s3)\n",
    "\n",
    "#convert the resultant set into list\n",
    "lst3=list(s3)\n",
    "print(lst3)"
   ]
  },
  {
   "cell_type": "markdown",
   "metadata": {},
   "source": [
    "# Nested Lists\n",
    "- A list within another list is called a nested list\n"
   ]
  },
  {
   "cell_type": "code",
   "execution_count": 78,
   "metadata": {},
   "outputs": [
    {
     "name": "stdout",
     "output_type": "stream",
     "text": [
      "[10, 20, 30, [80, 90]]\n"
     ]
    }
   ],
   "source": [
    "a=[80,90]\n",
    "b=[10,20,30,a]\n",
    "print(b)"
   ]
  },
  {
   "cell_type": "code",
   "execution_count": 79,
   "metadata": {},
   "outputs": [
    {
     "name": "stdout",
     "output_type": "stream",
     "text": [
      "80\n",
      "90\n"
     ]
    }
   ],
   "source": [
    "# if we want to display nested elements seperately, we can use a for loop\n",
    "for x in b[3]:\n",
    "    print(x)"
   ]
  },
  {
   "cell_type": "code",
   "execution_count": null,
   "metadata": {},
   "outputs": [],
   "source": []
  },
  {
   "cell_type": "code",
   "execution_count": 81,
   "metadata": {},
   "outputs": [
    {
     "name": "stdout",
     "output_type": "stream",
     "text": [
      "[[1, 2, 3], [4, 5, 6], [7, 8, 9]]\n",
      "[1, 2, 3]\n",
      "[4, 5, 6]\n",
      "[7, 8, 9]\n"
     ]
    }
   ],
   "source": [
    "# Create a matrix with 3 rows and 3 columns\n",
    "mat=[[1,2,3], [4,5,6], [7,8,9]]\n",
    "print(mat)\n",
    "\n",
    "for r in mat:\n",
    "    print(r)"
   ]
  },
  {
   "cell_type": "code",
   "execution_count": 82,
   "metadata": {},
   "outputs": [
    {
     "name": "stdout",
     "output_type": "stream",
     "text": [
      "1 2 3 \n",
      "4 5 6 \n",
      "7 8 9 \n"
     ]
    }
   ],
   "source": [
    "# retrieve the elements from 'mat', it will retrieve row by row\n",
    "for r in mat:\n",
    "    for c in r:\n",
    "        print(c,end=' ')\n",
    "    print()"
   ]
  },
  {
   "cell_type": "code",
   "execution_count": 29,
   "metadata": {},
   "outputs": [],
   "source": [
    "# retrieve the column in each row\n"
   ]
  },
  {
   "cell_type": "markdown",
   "metadata": {},
   "source": [
    "# List Comprehensions\n",
    "- List comprehensions represent creation of new lists from an iterable objects(like a list, set, tuple, dictionary or range)\n",
    "that satisfy a given condition\n",
    "- List comprehensions contain very compact code usually a single statement that performs the tasks"
   ]
  },
  {
   "cell_type": "code",
   "execution_count": 83,
   "metadata": {},
   "outputs": [
    {
     "name": "stdout",
     "output_type": "stream",
     "text": [
      "[1, 4, 9, 16, 25, 36, 49, 64, 81, 100]\n"
     ]
    }
   ],
   "source": [
    "square=[]\n",
    "for x in range(1,11):\n",
    "    square.append(x**2)\n",
    "print(square)\n"
   ]
  },
  {
   "cell_type": "code",
   "execution_count": 84,
   "metadata": {},
   "outputs": [
    {
     "name": "stdout",
     "output_type": "stream",
     "text": [
      "[1, 4, 9, 16, 25, 36, 49, 64, 81, 100]\n"
     ]
    }
   ],
   "source": [
    "square=[x**2 for x in range(1,11)]\n",
    "print(square)"
   ]
  },
  {
   "cell_type": "markdown",
   "metadata": {},
   "source": [
    "# Tuple\n",
    "- A tuple is a Python sequence which stores a group of elements or items\n",
    "- Tuples are similer to list but the main difference is tupple are immutable, where lists are mutable\n",
    "- Once we create tupple we canot modify the tuple\n",
    "- Hence we canot perform operations like append(), extend(), remove(), clear(), pop() on tuple\n",
    "- The elements in the tuple are seperated by commas and enclosed in parentheses().\n",
    "- Tuples are generally used to store data which should not be modified and retrieve that data on demand "
   ]
  },
  {
   "cell_type": "code",
   "execution_count": 3,
   "metadata": {},
   "outputs": [
    {
     "name": "stdout",
     "output_type": "stream",
     "text": [
      "(10, 20, -30.1, 40.5, 'Hyderabad', 'New Delhi')\n"
     ]
    }
   ],
   "source": [
    "# Example for creating tuple\n",
    "tup=(10,20,-30.1,40.5,'Hyderabad','New Delhi')\n",
    "print(tup)"
   ]
  },
  {
   "cell_type": "code",
   "execution_count": 6,
   "metadata": {},
   "outputs": [
    {
     "name": "stdout",
     "output_type": "stream",
     "text": [
      "(1, 2, 3, 4)\n"
     ]
    }
   ],
   "source": [
    "# If we donot mention any brackets and write the element separating them by commas, then they are taken by default as tuple\n",
    "tup1=1,2,3,4\n",
    "\n",
    "print(tup1)"
   ]
  },
  {
   "cell_type": "code",
   "execution_count": 1,
   "metadata": {},
   "outputs": [
    {
     "name": "stdout",
     "output_type": "stream",
     "text": [
      "(1, 2, 3, 4, 5)\n"
     ]
    }
   ],
   "source": [
    "# Create tuple from list\n",
    "lst=[1,2,3,4,5]\n",
    "\n",
    "\n",
    "tup2=tuple(lst)\n",
    "print(tup2)"
   ]
  },
  {
   "cell_type": "code",
   "execution_count": 10,
   "metadata": {},
   "outputs": [
    {
     "name": "stdout",
     "output_type": "stream",
     "text": [
      "(1, 2, 3, 4, 5, 6, 7, 8, 9)\n"
     ]
    }
   ],
   "source": [
    "# Creating tuple by using range function\n",
    "tup=tuple(range(1,10))\n",
    "print(tup)"
   ]
  },
  {
   "cell_type": "code",
   "execution_count": 85,
   "metadata": {},
   "outputs": [
    {
     "name": "stdout",
     "output_type": "stream",
     "text": [
      "80\n",
      "(60, 70)\n",
      "(60, 80, 100)\n",
      "(50, 70, 90)\n"
     ]
    }
   ],
   "source": [
    "# Accessing the tuple elements\n",
    "tup=(50,60,70,80,90,100)\n",
    "\n",
    "print(tup[3])\n",
    "\n",
    "print(tup[1:3])\n",
    "\n",
    "print(tup[1:5:2])\n",
    "\n",
    "print(tup[::2])"
   ]
  },
  {
   "cell_type": "code",
   "execution_count": 21,
   "metadata": {},
   "outputs": [
    {
     "name": "stdout",
     "output_type": "stream",
     "text": [
      "100\n",
      "(70, 80, 90)\n",
      "(100, 80, 60)\n"
     ]
    }
   ],
   "source": [
    "# Negative indexing in tuple\n",
    "print(tup[-1])\n",
    "print(tup[-4:-1])\n",
    "print(tup[::-2])"
   ]
  },
  {
   "cell_type": "code",
   "execution_count": 7,
   "metadata": {},
   "outputs": [
    {
     "name": "stdout",
     "output_type": "stream",
     "text": [
      "5\n",
      "(6, 7, 8)\n",
      "(9, 7, 5, 3, 1)\n"
     ]
    }
   ],
   "source": [
    "x=(1,2,3,4,5,6,7,8,9)\n",
    "\n",
    "print(x[5])\n",
    "\n",
    "print(x[-4:-1])\n",
    "\n",
    "print(x[::-2])"
   ]
  },
  {
   "cell_type": "code",
   "execution_count": 8,
   "metadata": {},
   "outputs": [
    {
     "name": "stdout",
     "output_type": "stream",
     "text": [
      "Role number of the student is :  10\n",
      "Name of the student is :  Vinay Kumar\n"
     ]
    }
   ],
   "source": [
    "# Storing extracted elements into variables\n",
    "student=(10,'Vinay Kumar',50,60,65,61,70)\n",
    "\n",
    "rn0,name=student[-7:-5]\n",
    "print('Role number of the student is : ',rn0)\n",
    "print('Name of the student is : ',name)"
   ]
  },
  {
   "cell_type": "code",
   "execution_count": 27,
   "metadata": {},
   "outputs": [
    {
     "name": "stdout",
     "output_type": "stream",
     "text": [
      "50\n",
      "60\n",
      "65\n",
      "61\n",
      "70\n"
     ]
    }
   ],
   "source": [
    "# To retrieve marks of the student \n",
    "marks=student[2:7]\n",
    "for i in marks:\n",
    "    print(i)"
   ]
  },
  {
   "cell_type": "code",
   "execution_count": 31,
   "metadata": {},
   "outputs": [
    {
     "name": "stdout",
     "output_type": "stream",
     "text": [
      "Length of the tuple 6\n",
      "Maximum value in tuple 60\n",
      "Minimum value in tuple 10\n"
     ]
    }
   ],
   "source": [
    "# finding length, maximum and minimum value of tuple\n",
    "tup=(10,20,30,40,50,60)\n",
    "print(\"Length of the tuple\",len(tup))\n",
    "print(\"Maximum value in tuple\",max(tup))\n",
    "print(\"Minimum value in tuple\",min(tup))\n"
   ]
  },
  {
   "cell_type": "code",
   "execution_count": 86,
   "metadata": {},
   "outputs": [
    {
     "data": {
      "text/plain": [
       "False"
      ]
     },
     "execution_count": 86,
     "metadata": {},
     "output_type": "execute_result"
    }
   ],
   "source": [
    "# Membership operation in tuple\n",
    "student=(10,'Vinay Kumar',50,60,65,61,70)\n",
    "name='Vinay Kumar'\n",
    "name  not in student"
   ]
  },
  {
   "cell_type": "code",
   "execution_count": 45,
   "metadata": {},
   "outputs": [
    {
     "name": "stdout",
     "output_type": "stream",
     "text": [
      "(10, 11, 12, 10, 11, 12, 10, 11, 12)\n"
     ]
    }
   ],
   "source": [
    "# Repetition operation in tuple\n",
    "tpl=(10,11,12)\n",
    "tp1=tpl*3\n",
    "print(tp1)"
   ]
  },
  {
   "cell_type": "code",
   "execution_count": 47,
   "metadata": {},
   "outputs": [
    {
     "data": {
      "text/plain": [
       "3"
      ]
     },
     "execution_count": 47,
     "metadata": {},
     "output_type": "execute_result"
    }
   ],
   "source": [
    "# Count() operation in tuple\n",
    "tp1.count(10)"
   ]
  },
  {
   "cell_type": "code",
   "execution_count": 50,
   "metadata": {},
   "outputs": [
    {
     "data": {
      "text/plain": [
       "[10, 10, 10, 11, 11, 11, 12, 12, 12]"
      ]
     },
     "execution_count": 50,
     "metadata": {},
     "output_type": "execute_result"
    }
   ],
   "source": [
    "# sort() function in tuple\n",
    "sorted(tp1)"
   ]
  },
  {
   "cell_type": "code",
   "execution_count": 87,
   "metadata": {},
   "outputs": [
    {
     "name": "stdout",
     "output_type": "stream",
     "text": [
      "Enter the elments in(): 1,2,3,4,5,6\n",
      "sum=  21\n",
      "Average=  3.5\n"
     ]
    }
   ],
   "source": [
    "# A python program to accept elements in the form of a tuple and display their sum and average\n",
    "num=eval(input(\"Enter the elments in(): \"))\n",
    "\n",
    "sum=0\n",
    "\n",
    "for i in num:\n",
    "    sum=sum+i\n",
    "    avg=sum/len(num)\n",
    "print(\"sum= \",sum)\n",
    "print(\"Average= \",avg)"
   ]
  },
  {
   "cell_type": "code",
   "execution_count": 13,
   "metadata": {},
   "outputs": [
    {
     "name": "stdout",
     "output_type": "stream",
     "text": [
      "(50, 60, 70, 80, 90, (200, 2012))\n",
      "Nested tuple=  (200, 2012)\n"
     ]
    }
   ],
   "source": [
    "# Nested tuple\n",
    "# A tuple inside another tuple is called nested tuple\n",
    "tup=(50,60,70,80,90,(200,2012))\n",
    "print(tup)\n",
    "print('Nested tuple= ',tup[5])"
   ]
  },
  {
   "cell_type": "code",
   "execution_count": 99,
   "metadata": {},
   "outputs": [
    {
     "name": "stdout",
     "output_type": "stream",
     "text": [
      "10\n",
      "20\n",
      "30\n",
      "40\n",
      "50\n",
      "60\n"
     ]
    },
    {
     "ename": "IndexError",
     "evalue": "list index out of range",
     "output_type": "error",
     "traceback": [
      "\u001b[1;31m---------------------------------------------------------------------------\u001b[0m",
      "\u001b[1;31mIndexError\u001b[0m                                Traceback (most recent call last)",
      "\u001b[1;32m<ipython-input-99-2a32f6b3d0cc>\u001b[0m in \u001b[0;36m<module>\u001b[1;34m\u001b[0m\n\u001b[0;32m      2\u001b[0m \u001b[1;33m\u001b[0m\u001b[0m\n\u001b[0;32m      3\u001b[0m \u001b[1;32mfor\u001b[0m \u001b[0mi\u001b[0m \u001b[1;32min\u001b[0m \u001b[0mrange\u001b[0m\u001b[1;33m(\u001b[0m\u001b[1;36m7\u001b[0m\u001b[1;33m)\u001b[0m\u001b[1;33m:\u001b[0m\u001b[1;33m\u001b[0m\u001b[0m\n\u001b[1;32m----> 4\u001b[1;33m     \u001b[0mprint\u001b[0m\u001b[1;33m(\u001b[0m\u001b[0mlst\u001b[0m\u001b[1;33m[\u001b[0m\u001b[0mi\u001b[0m\u001b[1;33m]\u001b[0m\u001b[1;33m)\u001b[0m\u001b[1;33m\u001b[0m\u001b[0m\n\u001b[0m",
      "\u001b[1;31mIndexError\u001b[0m: list index out of range"
     ]
    }
   ],
   "source": [
    "lst=[10,20,30,40,50,60]\n",
    "\n",
    "for i in range(7):\n",
    "    print(lst[i])"
   ]
  }
 ],
 "metadata": {
  "kernelspec": {
   "display_name": "Python 3",
   "language": "python",
   "name": "python3"
  },
  "language_info": {
   "codemirror_mode": {
    "name": "ipython",
    "version": 3
   },
   "file_extension": ".py",
   "mimetype": "text/x-python",
   "name": "python",
   "nbconvert_exporter": "python",
   "pygments_lexer": "ipython3",
   "version": "3.7.6"
  }
 },
 "nbformat": 4,
 "nbformat_minor": 4
}
